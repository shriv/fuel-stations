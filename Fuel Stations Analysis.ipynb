{
 "cells": [
  {
   "cell_type": "markdown",
   "metadata": {},
   "source": [
    "# Introduction\n"
   ]
  },
  {
   "cell_type": "code",
   "execution_count": 1,
   "metadata": {
    "code_folding": [
     0
    ]
   },
   "outputs": [],
   "source": [
    "# Import some packages\n",
    "import overpy as op\n",
    "import pandas as pd\n",
    "import json\n",
    "import requests\n",
    "import osmnx as ox, networkx as nx, pandas as pd\n",
    "%matplotlib inline\n",
    "ox.config(log_console=True, use_cache=True)\n",
    "pd.set_option('display.max_columns', 200)"
   ]
  },
  {
   "cell_type": "markdown",
   "metadata": {},
   "source": [
    "# Introduction to Spatial data\n",
    "\n",
    "## What is spatial data?\n",
    "\n",
    "## Tools for spatial data analysis\n",
    "Tool | What does it do?\n",
    "--- | ---\n",
    "Open Street Maps (OSM) | [An open map of the world](https://en.wikipedia.org/wiki/OpenStreetMap). Anyone can edit and get data.  \n",
    "Overpass | [An API](https://wiki.openstreetmap.org/wiki/Overpass_API) to get data from OSM.\n",
    "OSMNX | A python package that can analyse streets and roads with network algorithms.\n",
    "\n",
    "\n",
    "## Techniques to derive insight from spatial data\n",
    "\n"
   ]
  },
  {
   "cell_type": "markdown",
   "metadata": {},
   "source": [
    "# Get Spatial data"
   ]
  },
  {
   "cell_type": "markdown",
   "metadata": {},
   "source": [
    "## Set bounding box"
   ]
  },
  {
   "cell_type": "code",
   "execution_count": 2,
   "metadata": {
    "code_folding": [
     0
    ]
   },
   "outputs": [],
   "source": [
    "# Define bounding box (W, S, E, N) for the area of Wellington we're interested in\n",
    "bbox = [174.5813,-41.4552,175.0722,-41.1527]\n",
    "\n",
    "# Separate out the bounding box list into 4 vertices. \n",
    "south = bbox[1]\n",
    "west = bbox[0]\n",
    "\n",
    "# Rechts oben\n",
    "north = bbox[3]\n",
    "east = bbox[2]"
   ]
  },
  {
   "cell_type": "markdown",
   "metadata": {},
   "source": [
    "## Create Query\n",
    "The following section creates a query to get fuel station data from Open Street Maps. The tags list can also be amended to get other amenities. The full list is [here](https://wiki.openstreetmap.org/wiki/Key:amenity). For example, we can easily get data for cafes and restaurants by adding these to the tags list.  "
   ]
  },
  {
   "cell_type": "markdown",
   "metadata": {},
   "source": [
    "The Overpass API query is not very easy to read but the main components are: \n",
    "- The bounding box: the area where we want the search performed. \n",
    "    - In this example, I've chosen a bounding around an arbitrary area of Greater Wellington which includes Wellington City some of the closer regions (e.g. Lower Hutt).  \n",
    "- Data Primitives: ways, nodes, tags, relations.\n",
    "    - Queries by tags within the main entities: the *types* of ways and nodes. Here we only retrieve ways and nodes that have been tagged as fuel stations.\n",
    "    \n",
    "More information about the entities of Open Street Maps can be found [here](https://en.wikipedia.org/wiki/OpenStreetMap#Operation). "
   ]
  },
  {
   "cell_type": "code",
   "execution_count": 3,
   "metadata": {},
   "outputs": [],
   "source": [
    "# What types of entitities do we want to get? Currently restricted to amenities\n",
    "tags = ['fuel']\n",
    "objects = ['node', 'way'] # like way, node, relation"
   ]
  },
  {
   "cell_type": "code",
   "execution_count": 4,
   "metadata": {
    "code_folding": [
     0
    ]
   },
   "outputs": [
    {
     "name": "stdout",
     "output_type": "stream",
     "text": [
      "[out:json][timeout:60];(node[\"amenity\"=\"fuel\"](-41.4552,174.5813,-41.1527,175.0722);way[\"amenity\"=\"fuel\"](-41.4552,174.5813,-41.1527,175.0722););out body;>;out skel qt;\n"
     ]
    }
   ],
   "source": [
    "# Generate the query string\n",
    "compactOverpassQLstring = '[out:json][timeout:60];('\n",
    "for tag in tags:\n",
    "    for obj in objects:\n",
    "        compactOverpassQLstring += '%s[\"amenity\"=\"%s\"](%s,%s,%s,%s);' % (obj, tag, south, west, north, east)\n",
    "compactOverpassQLstring += ');out body;>;out skel qt;'    \n",
    "print compactOverpassQLstring"
   ]
  },
  {
   "cell_type": "markdown",
   "metadata": {},
   "source": [
    "## Getting data from Overpass "
   ]
  },
  {
   "cell_type": "code",
   "execution_count": 5,
   "metadata": {
    "code_folding": [
     0
    ]
   },
   "outputs": [],
   "source": [
    "# Request data from Overpass\n",
    "osmrequest = {'data': compactOverpassQLstring}\n",
    "osmurl = 'http://overpass-api.de/api/interpreter'\n",
    "# Ask the API\n",
    "osm = requests.get(osmurl, params=osmrequest)\n",
    "\n",
    "# Convert the results to JSON and get the requested data from the 'elements' key\n",
    "# The other keys in osm.json() are metadata guff like 'generator', 'version' of API etc. \n",
    "osmdata = osm.json()\n",
    "osmdata = osmdata['elements']"
   ]
  },
  {
   "cell_type": "code",
   "execution_count": 6,
   "metadata": {
    "code_folding": [
     0
    ]
   },
   "outputs": [],
   "source": [
    "# Convert JSON output to pandas dataframe\n",
    "for dct in osmdata:\n",
    "    if dct.has_key('tags'):\n",
    "        for key, val in dct['tags'].iteritems():\n",
    "            dct[key] = val\n",
    "        del dct['tags']\n",
    "    else:\n",
    "        pass\n",
    "osmdf = pd.DataFrame(osmdata)"
   ]
  },
  {
   "cell_type": "markdown",
   "metadata": {},
   "source": [
    "## Data specifics?"
   ]
  },
  {
   "cell_type": "code",
   "execution_count": 7,
   "metadata": {},
   "outputs": [
    {
     "data": {
      "text/html": [
       "<div>\n",
       "<style scoped>\n",
       "    .dataframe tbody tr th:only-of-type {\n",
       "        vertical-align: middle;\n",
       "    }\n",
       "\n",
       "    .dataframe tbody tr th {\n",
       "        vertical-align: top;\n",
       "    }\n",
       "\n",
       "    .dataframe thead th {\n",
       "        text-align: right;\n",
       "    }\n",
       "</style>\n",
       "<table border=\"1\" class=\"dataframe\">\n",
       "  <thead>\n",
       "    <tr style=\"text-align: right;\">\n",
       "      <th></th>\n",
       "      <th>addr:city</th>\n",
       "      <th>addr:housenumber</th>\n",
       "      <th>addr:postcode</th>\n",
       "      <th>addr:street</th>\n",
       "      <th>addr:suburb</th>\n",
       "      <th>amenity</th>\n",
       "      <th>amenity_1</th>\n",
       "      <th>brand</th>\n",
       "      <th>building</th>\n",
       "      <th>building:levels</th>\n",
       "      <th>created_by</th>\n",
       "      <th>diesel</th>\n",
       "      <th>fuel:HGV_diesel</th>\n",
       "      <th>fuel:diesel</th>\n",
       "      <th>fuel:electric</th>\n",
       "      <th>fuel:lpg</th>\n",
       "      <th>fuel:octane_91</th>\n",
       "      <th>fuel:octane_95</th>\n",
       "      <th>fuel:octane_98</th>\n",
       "      <th>id</th>\n",
       "      <th>lat</th>\n",
       "      <th>lon</th>\n",
       "      <th>name</th>\n",
       "      <th>name:en</th>\n",
       "      <th>nodes</th>\n",
       "      <th>opening_hours</th>\n",
       "      <th>operator</th>\n",
       "      <th>ref:linz:address_id</th>\n",
       "      <th>type</th>\n",
       "      <th>wheelchair</th>\n",
       "    </tr>\n",
       "  </thead>\n",
       "  <tbody>\n",
       "    <tr>\n",
       "      <th>0</th>\n",
       "      <td>NaN</td>\n",
       "      <td>NaN</td>\n",
       "      <td>NaN</td>\n",
       "      <td>NaN</td>\n",
       "      <td>NaN</td>\n",
       "      <td>fuel</td>\n",
       "      <td>NaN</td>\n",
       "      <td>NaN</td>\n",
       "      <td>NaN</td>\n",
       "      <td>NaN</td>\n",
       "      <td>NaN</td>\n",
       "      <td>NaN</td>\n",
       "      <td>NaN</td>\n",
       "      <td>NaN</td>\n",
       "      <td>NaN</td>\n",
       "      <td>NaN</td>\n",
       "      <td>NaN</td>\n",
       "      <td>NaN</td>\n",
       "      <td>NaN</td>\n",
       "      <td>186536676</td>\n",
       "      <td>-41.202326</td>\n",
       "      <td>174.944312</td>\n",
       "      <td>NaN</td>\n",
       "      <td>NaN</td>\n",
       "      <td>NaN</td>\n",
       "      <td>NaN</td>\n",
       "      <td>BP</td>\n",
       "      <td>NaN</td>\n",
       "      <td>node</td>\n",
       "      <td>NaN</td>\n",
       "    </tr>\n",
       "    <tr>\n",
       "      <th>1</th>\n",
       "      <td>NaN</td>\n",
       "      <td>NaN</td>\n",
       "      <td>NaN</td>\n",
       "      <td>NaN</td>\n",
       "      <td>NaN</td>\n",
       "      <td>fuel</td>\n",
       "      <td>NaN</td>\n",
       "      <td>NaN</td>\n",
       "      <td>NaN</td>\n",
       "      <td>NaN</td>\n",
       "      <td>NaN</td>\n",
       "      <td>NaN</td>\n",
       "      <td>NaN</td>\n",
       "      <td>NaN</td>\n",
       "      <td>NaN</td>\n",
       "      <td>NaN</td>\n",
       "      <td>NaN</td>\n",
       "      <td>NaN</td>\n",
       "      <td>NaN</td>\n",
       "      <td>203840709</td>\n",
       "      <td>-41.175811</td>\n",
       "      <td>174.825616</td>\n",
       "      <td>NaN</td>\n",
       "      <td>NaN</td>\n",
       "      <td>NaN</td>\n",
       "      <td>NaN</td>\n",
       "      <td>NaN</td>\n",
       "      <td>NaN</td>\n",
       "      <td>node</td>\n",
       "      <td>NaN</td>\n",
       "    </tr>\n",
       "    <tr>\n",
       "      <th>2</th>\n",
       "      <td>NaN</td>\n",
       "      <td>NaN</td>\n",
       "      <td>NaN</td>\n",
       "      <td>NaN</td>\n",
       "      <td>NaN</td>\n",
       "      <td>fuel</td>\n",
       "      <td>NaN</td>\n",
       "      <td>NaN</td>\n",
       "      <td>NaN</td>\n",
       "      <td>NaN</td>\n",
       "      <td>Potlatch 0.10f</td>\n",
       "      <td>NaN</td>\n",
       "      <td>NaN</td>\n",
       "      <td>NaN</td>\n",
       "      <td>NaN</td>\n",
       "      <td>NaN</td>\n",
       "      <td>NaN</td>\n",
       "      <td>NaN</td>\n",
       "      <td>NaN</td>\n",
       "      <td>206201048</td>\n",
       "      <td>-41.222110</td>\n",
       "      <td>174.807036</td>\n",
       "      <td>NaN</td>\n",
       "      <td>NaN</td>\n",
       "      <td>NaN</td>\n",
       "      <td>NaN</td>\n",
       "      <td>NaN</td>\n",
       "      <td>NaN</td>\n",
       "      <td>node</td>\n",
       "      <td>NaN</td>\n",
       "    </tr>\n",
       "    <tr>\n",
       "      <th>3</th>\n",
       "      <td>NaN</td>\n",
       "      <td>NaN</td>\n",
       "      <td>NaN</td>\n",
       "      <td>NaN</td>\n",
       "      <td>NaN</td>\n",
       "      <td>fuel</td>\n",
       "      <td>NaN</td>\n",
       "      <td>BP</td>\n",
       "      <td>NaN</td>\n",
       "      <td>NaN</td>\n",
       "      <td>NaN</td>\n",
       "      <td>NaN</td>\n",
       "      <td>NaN</td>\n",
       "      <td>yes</td>\n",
       "      <td>NaN</td>\n",
       "      <td>yes</td>\n",
       "      <td>yes</td>\n",
       "      <td>no</td>\n",
       "      <td>yes</td>\n",
       "      <td>206201049</td>\n",
       "      <td>-41.225857</td>\n",
       "      <td>174.807492</td>\n",
       "      <td>BP Johnsonville</td>\n",
       "      <td>NaN</td>\n",
       "      <td>NaN</td>\n",
       "      <td>NaN</td>\n",
       "      <td>NaN</td>\n",
       "      <td>NaN</td>\n",
       "      <td>node</td>\n",
       "      <td>NaN</td>\n",
       "    </tr>\n",
       "    <tr>\n",
       "      <th>4</th>\n",
       "      <td>NaN</td>\n",
       "      <td>NaN</td>\n",
       "      <td>NaN</td>\n",
       "      <td>NaN</td>\n",
       "      <td>NaN</td>\n",
       "      <td>fuel</td>\n",
       "      <td>NaN</td>\n",
       "      <td>NaN</td>\n",
       "      <td>NaN</td>\n",
       "      <td>NaN</td>\n",
       "      <td>NaN</td>\n",
       "      <td>NaN</td>\n",
       "      <td>NaN</td>\n",
       "      <td>NaN</td>\n",
       "      <td>NaN</td>\n",
       "      <td>NaN</td>\n",
       "      <td>NaN</td>\n",
       "      <td>NaN</td>\n",
       "      <td>NaN</td>\n",
       "      <td>300202137</td>\n",
       "      <td>-41.306699</td>\n",
       "      <td>174.763340</td>\n",
       "      <td>NaN</td>\n",
       "      <td>NaN</td>\n",
       "      <td>NaN</td>\n",
       "      <td>NaN</td>\n",
       "      <td>Caltex</td>\n",
       "      <td>NaN</td>\n",
       "      <td>node</td>\n",
       "      <td>NaN</td>\n",
       "    </tr>\n",
       "  </tbody>\n",
       "</table>\n",
       "</div>"
      ],
      "text/plain": [
       "  addr:city addr:housenumber addr:postcode addr:street addr:suburb amenity  \\\n",
       "0       NaN              NaN           NaN         NaN         NaN    fuel   \n",
       "1       NaN              NaN           NaN         NaN         NaN    fuel   \n",
       "2       NaN              NaN           NaN         NaN         NaN    fuel   \n",
       "3       NaN              NaN           NaN         NaN         NaN    fuel   \n",
       "4       NaN              NaN           NaN         NaN         NaN    fuel   \n",
       "\n",
       "  amenity_1 brand building building:levels      created_by diesel  \\\n",
       "0       NaN   NaN      NaN             NaN             NaN    NaN   \n",
       "1       NaN   NaN      NaN             NaN             NaN    NaN   \n",
       "2       NaN   NaN      NaN             NaN  Potlatch 0.10f    NaN   \n",
       "3       NaN    BP      NaN             NaN             NaN    NaN   \n",
       "4       NaN   NaN      NaN             NaN             NaN    NaN   \n",
       "\n",
       "  fuel:HGV_diesel fuel:diesel fuel:electric fuel:lpg fuel:octane_91  \\\n",
       "0             NaN         NaN           NaN      NaN            NaN   \n",
       "1             NaN         NaN           NaN      NaN            NaN   \n",
       "2             NaN         NaN           NaN      NaN            NaN   \n",
       "3             NaN         yes           NaN      yes            yes   \n",
       "4             NaN         NaN           NaN      NaN            NaN   \n",
       "\n",
       "  fuel:octane_95 fuel:octane_98         id        lat         lon  \\\n",
       "0            NaN            NaN  186536676 -41.202326  174.944312   \n",
       "1            NaN            NaN  203840709 -41.175811  174.825616   \n",
       "2            NaN            NaN  206201048 -41.222110  174.807036   \n",
       "3             no            yes  206201049 -41.225857  174.807492   \n",
       "4            NaN            NaN  300202137 -41.306699  174.763340   \n",
       "\n",
       "              name name:en nodes opening_hours operator ref:linz:address_id  \\\n",
       "0              NaN     NaN   NaN           NaN       BP                 NaN   \n",
       "1              NaN     NaN   NaN           NaN      NaN                 NaN   \n",
       "2              NaN     NaN   NaN           NaN      NaN                 NaN   \n",
       "3  BP Johnsonville     NaN   NaN           NaN      NaN                 NaN   \n",
       "4              NaN     NaN   NaN           NaN   Caltex                 NaN   \n",
       "\n",
       "   type wheelchair  \n",
       "0  node        NaN  \n",
       "1  node        NaN  \n",
       "2  node        NaN  \n",
       "3  node        NaN  \n",
       "4  node        NaN  "
      ]
     },
     "execution_count": 7,
     "metadata": {},
     "output_type": "execute_result"
    }
   ],
   "source": [
    "osmdf.head()"
   ]
  },
  {
   "cell_type": "code",
   "execution_count": 8,
   "metadata": {},
   "outputs": [],
   "source": [
    "sub_df = (osmdf[['id', 'lat', 'lon', 'name', 'operator', 'brand', 'type']]\n",
    "          .sort_values(['lat', 'lon'])\n",
    "          .reset_index()\n",
    "          .drop(columns='index'))"
   ]
  },
  {
   "cell_type": "code",
   "execution_count": 9,
   "metadata": {},
   "outputs": [
    {
     "data": {
      "text/html": [
       "<div>\n",
       "<style scoped>\n",
       "    .dataframe tbody tr th:only-of-type {\n",
       "        vertical-align: middle;\n",
       "    }\n",
       "\n",
       "    .dataframe tbody tr th {\n",
       "        vertical-align: top;\n",
       "    }\n",
       "\n",
       "    .dataframe thead th {\n",
       "        text-align: right;\n",
       "    }\n",
       "</style>\n",
       "<table border=\"1\" class=\"dataframe\">\n",
       "  <thead>\n",
       "    <tr style=\"text-align: right;\">\n",
       "      <th></th>\n",
       "      <th>id</th>\n",
       "      <th>lat</th>\n",
       "      <th>lon</th>\n",
       "      <th>name</th>\n",
       "      <th>operator</th>\n",
       "      <th>brand</th>\n",
       "      <th>type</th>\n",
       "    </tr>\n",
       "  </thead>\n",
       "  <tbody>\n",
       "    <tr>\n",
       "      <th>0</th>\n",
       "      <td>2845230323</td>\n",
       "      <td>-41.325288</td>\n",
       "      <td>174.810883</td>\n",
       "      <td>NaN</td>\n",
       "      <td>NaN</td>\n",
       "      <td>NaN</td>\n",
       "      <td>node</td>\n",
       "    </tr>\n",
       "    <tr>\n",
       "      <th>1</th>\n",
       "      <td>2845230324</td>\n",
       "      <td>-41.325284</td>\n",
       "      <td>174.811057</td>\n",
       "      <td>NaN</td>\n",
       "      <td>NaN</td>\n",
       "      <td>NaN</td>\n",
       "      <td>node</td>\n",
       "    </tr>\n",
       "    <tr>\n",
       "      <th>2</th>\n",
       "      <td>2845230322</td>\n",
       "      <td>-41.325275</td>\n",
       "      <td>174.810774</td>\n",
       "      <td>NaN</td>\n",
       "      <td>NaN</td>\n",
       "      <td>NaN</td>\n",
       "      <td>node</td>\n",
       "    </tr>\n",
       "    <tr>\n",
       "      <th>3</th>\n",
       "      <td>2845230321</td>\n",
       "      <td>-41.325200</td>\n",
       "      <td>174.810729</td>\n",
       "      <td>NaN</td>\n",
       "      <td>NaN</td>\n",
       "      <td>NaN</td>\n",
       "      <td>node</td>\n",
       "    </tr>\n",
       "    <tr>\n",
       "      <th>4</th>\n",
       "      <td>5821475056</td>\n",
       "      <td>-41.325128</td>\n",
       "      <td>174.810920</td>\n",
       "      <td>Z Broadway</td>\n",
       "      <td>NaN</td>\n",
       "      <td>Z</td>\n",
       "      <td>node</td>\n",
       "    </tr>\n",
       "    <tr>\n",
       "      <th>5</th>\n",
       "      <td>2845230326</td>\n",
       "      <td>-41.324988</td>\n",
       "      <td>174.811025</td>\n",
       "      <td>NaN</td>\n",
       "      <td>NaN</td>\n",
       "      <td>NaN</td>\n",
       "      <td>node</td>\n",
       "    </tr>\n",
       "    <tr>\n",
       "      <th>6</th>\n",
       "      <td>2845230325</td>\n",
       "      <td>-41.324978</td>\n",
       "      <td>174.811175</td>\n",
       "      <td>NaN</td>\n",
       "      <td>NaN</td>\n",
       "      <td>NaN</td>\n",
       "      <td>node</td>\n",
       "    </tr>\n",
       "    <tr>\n",
       "      <th>7</th>\n",
       "      <td>2845230320</td>\n",
       "      <td>-41.324936</td>\n",
       "      <td>174.810823</td>\n",
       "      <td>NaN</td>\n",
       "      <td>NaN</td>\n",
       "      <td>NaN</td>\n",
       "      <td>node</td>\n",
       "    </tr>\n",
       "    <tr>\n",
       "      <th>8</th>\n",
       "      <td>3120151445</td>\n",
       "      <td>-41.320054</td>\n",
       "      <td>174.794407</td>\n",
       "      <td>Z Kilbirnie</td>\n",
       "      <td>NaN</td>\n",
       "      <td>Z</td>\n",
       "      <td>node</td>\n",
       "    </tr>\n",
       "    <tr>\n",
       "      <th>9</th>\n",
       "      <td>2384031154</td>\n",
       "      <td>-41.319672</td>\n",
       "      <td>174.775647</td>\n",
       "      <td>NaN</td>\n",
       "      <td>BP</td>\n",
       "      <td>NaN</td>\n",
       "      <td>node</td>\n",
       "    </tr>\n",
       "    <tr>\n",
       "      <th>10</th>\n",
       "      <td>2630715804</td>\n",
       "      <td>-41.317771</td>\n",
       "      <td>174.795545</td>\n",
       "      <td>NaN</td>\n",
       "      <td>NaN</td>\n",
       "      <td>NaN</td>\n",
       "      <td>node</td>\n",
       "    </tr>\n",
       "    <tr>\n",
       "      <th>11</th>\n",
       "      <td>2691960561</td>\n",
       "      <td>-41.317755</td>\n",
       "      <td>174.795454</td>\n",
       "      <td>NaN</td>\n",
       "      <td>NaN</td>\n",
       "      <td>NaN</td>\n",
       "      <td>node</td>\n",
       "    </tr>\n",
       "    <tr>\n",
       "      <th>12</th>\n",
       "      <td>2691960560</td>\n",
       "      <td>-41.317730</td>\n",
       "      <td>174.795310</td>\n",
       "      <td>NaN</td>\n",
       "      <td>NaN</td>\n",
       "      <td>NaN</td>\n",
       "      <td>node</td>\n",
       "    </tr>\n",
       "    <tr>\n",
       "      <th>13</th>\n",
       "      <td>2630715805</td>\n",
       "      <td>-41.317709</td>\n",
       "      <td>174.795190</td>\n",
       "      <td>NaN</td>\n",
       "      <td>NaN</td>\n",
       "      <td>NaN</td>\n",
       "      <td>node</td>\n",
       "    </tr>\n",
       "    <tr>\n",
       "      <th>14</th>\n",
       "      <td>2691960556</td>\n",
       "      <td>-41.317485</td>\n",
       "      <td>174.795643</td>\n",
       "      <td>NaN</td>\n",
       "      <td>NaN</td>\n",
       "      <td>NaN</td>\n",
       "      <td>node</td>\n",
       "    </tr>\n",
       "    <tr>\n",
       "      <th>15</th>\n",
       "      <td>2691960557</td>\n",
       "      <td>-41.317394</td>\n",
       "      <td>174.795548</td>\n",
       "      <td>NaN</td>\n",
       "      <td>NaN</td>\n",
       "      <td>NaN</td>\n",
       "      <td>node</td>\n",
       "    </tr>\n",
       "    <tr>\n",
       "      <th>16</th>\n",
       "      <td>2691960555</td>\n",
       "      <td>-41.317359</td>\n",
       "      <td>174.795304</td>\n",
       "      <td>NaN</td>\n",
       "      <td>NaN</td>\n",
       "      <td>NaN</td>\n",
       "      <td>node</td>\n",
       "    </tr>\n",
       "    <tr>\n",
       "      <th>17</th>\n",
       "      <td>4201438840</td>\n",
       "      <td>-41.315219</td>\n",
       "      <td>174.814100</td>\n",
       "      <td>NaN</td>\n",
       "      <td>NaN</td>\n",
       "      <td>NaN</td>\n",
       "      <td>node</td>\n",
       "    </tr>\n",
       "    <tr>\n",
       "      <th>18</th>\n",
       "      <td>2798199853</td>\n",
       "      <td>-41.315024</td>\n",
       "      <td>174.813633</td>\n",
       "      <td>NaN</td>\n",
       "      <td>NaN</td>\n",
       "      <td>NaN</td>\n",
       "      <td>node</td>\n",
       "    </tr>\n",
       "    <tr>\n",
       "      <th>19</th>\n",
       "      <td>5821475059</td>\n",
       "      <td>-41.314924</td>\n",
       "      <td>174.813972</td>\n",
       "      <td>Z Miramar</td>\n",
       "      <td>NaN</td>\n",
       "      <td>Z</td>\n",
       "      <td>node</td>\n",
       "    </tr>\n",
       "  </tbody>\n",
       "</table>\n",
       "</div>"
      ],
      "text/plain": [
       "            id        lat         lon         name operator brand  type\n",
       "0   2845230323 -41.325288  174.810883          NaN      NaN   NaN  node\n",
       "1   2845230324 -41.325284  174.811057          NaN      NaN   NaN  node\n",
       "2   2845230322 -41.325275  174.810774          NaN      NaN   NaN  node\n",
       "3   2845230321 -41.325200  174.810729          NaN      NaN   NaN  node\n",
       "4   5821475056 -41.325128  174.810920   Z Broadway      NaN     Z  node\n",
       "5   2845230326 -41.324988  174.811025          NaN      NaN   NaN  node\n",
       "6   2845230325 -41.324978  174.811175          NaN      NaN   NaN  node\n",
       "7   2845230320 -41.324936  174.810823          NaN      NaN   NaN  node\n",
       "8   3120151445 -41.320054  174.794407  Z Kilbirnie      NaN     Z  node\n",
       "9   2384031154 -41.319672  174.775647          NaN       BP   NaN  node\n",
       "10  2630715804 -41.317771  174.795545          NaN      NaN   NaN  node\n",
       "11  2691960561 -41.317755  174.795454          NaN      NaN   NaN  node\n",
       "12  2691960560 -41.317730  174.795310          NaN      NaN   NaN  node\n",
       "13  2630715805 -41.317709  174.795190          NaN      NaN   NaN  node\n",
       "14  2691960556 -41.317485  174.795643          NaN      NaN   NaN  node\n",
       "15  2691960557 -41.317394  174.795548          NaN      NaN   NaN  node\n",
       "16  2691960555 -41.317359  174.795304          NaN      NaN   NaN  node\n",
       "17  4201438840 -41.315219  174.814100          NaN      NaN   NaN  node\n",
       "18  2798199853 -41.315024  174.813633          NaN      NaN   NaN  node\n",
       "19  5821475059 -41.314924  174.813972    Z Miramar      NaN     Z  node"
      ]
     },
     "execution_count": 9,
     "metadata": {},
     "output_type": "execute_result"
    }
   ],
   "source": [
    "sub_df.head(20)"
   ]
  },
  {
   "cell_type": "markdown",
   "metadata": {},
   "source": [
    "# Analysis with Z Stations"
   ]
  },
  {
   "cell_type": "markdown",
   "metadata": {},
   "source": [
    "## Get Z Stations\n",
    "We can query the Wellington fuel stations dataset to only get those that are associated with Z. The query returns 13 Z stations within the search region. From a cursory glance at the named Z stations and [the list from the website](https://bit.ly/2KEqu5m), we can see that there is considerable parity. We're missing Z Constable St but I believe the rest are there. Despite the close parity however, there are some issues with the data:\n",
    "- Inconsistency between the operator and brand attributes. \n",
    "- No geolocation for some stations. \n",
    "\n",
    "![](assets/ways_without_geoloc.png)\n",
    "\n",
    "The key problem with the data is that a significant portion of the stations don't have location coordinates. This problem, unfortunately stems from the fact that OSM has two main types of topological entities: ways and nodes. Depending on how a user marks out the location of a fuel station, the entity can be either a way or a node. \n",
    "\n",
    "- If the station is marked with a single point, the entity is a node with a clear geolocation. \n",
    "- If the station's perimeter / main building is traced out as a polygon, the entity is a way with no clear geolocation.  "
   ]
  },
  {
   "cell_type": "code",
   "execution_count": 10,
   "metadata": {},
   "outputs": [
    {
     "data": {
      "text/html": [
       "<div>\n",
       "<style scoped>\n",
       "    .dataframe tbody tr th:only-of-type {\n",
       "        vertical-align: middle;\n",
       "    }\n",
       "\n",
       "    .dataframe tbody tr th {\n",
       "        vertical-align: top;\n",
       "    }\n",
       "\n",
       "    .dataframe thead th {\n",
       "        text-align: right;\n",
       "    }\n",
       "</style>\n",
       "<table border=\"1\" class=\"dataframe\">\n",
       "  <thead>\n",
       "    <tr style=\"text-align: right;\">\n",
       "      <th></th>\n",
       "      <th>id</th>\n",
       "      <th>lat</th>\n",
       "      <th>lon</th>\n",
       "      <th>name</th>\n",
       "      <th>operator</th>\n",
       "      <th>brand</th>\n",
       "      <th>type</th>\n",
       "    </tr>\n",
       "  </thead>\n",
       "  <tbody>\n",
       "    <tr>\n",
       "      <th>0</th>\n",
       "      <td>5821475056</td>\n",
       "      <td>-41.325128</td>\n",
       "      <td>174.810920</td>\n",
       "      <td>Z Broadway</td>\n",
       "      <td>NaN</td>\n",
       "      <td>Z</td>\n",
       "      <td>node</td>\n",
       "    </tr>\n",
       "    <tr>\n",
       "      <th>1</th>\n",
       "      <td>3120151445</td>\n",
       "      <td>-41.320054</td>\n",
       "      <td>174.794407</td>\n",
       "      <td>Z Kilbirnie</td>\n",
       "      <td>NaN</td>\n",
       "      <td>Z</td>\n",
       "      <td>node</td>\n",
       "    </tr>\n",
       "    <tr>\n",
       "      <th>2</th>\n",
       "      <td>5821475059</td>\n",
       "      <td>-41.314924</td>\n",
       "      <td>174.813972</td>\n",
       "      <td>Z Miramar</td>\n",
       "      <td>NaN</td>\n",
       "      <td>Z</td>\n",
       "      <td>node</td>\n",
       "    </tr>\n",
       "    <tr>\n",
       "      <th>3</th>\n",
       "      <td>5821475061</td>\n",
       "      <td>-41.313163</td>\n",
       "      <td>174.781812</td>\n",
       "      <td>Z Constable Street</td>\n",
       "      <td>NaN</td>\n",
       "      <td>Z</td>\n",
       "      <td>node</td>\n",
       "    </tr>\n",
       "    <tr>\n",
       "      <th>4</th>\n",
       "      <td>5821475058</td>\n",
       "      <td>-41.297146</td>\n",
       "      <td>174.776556</td>\n",
       "      <td>Z Taranaki Street</td>\n",
       "      <td>NaN</td>\n",
       "      <td>Z</td>\n",
       "      <td>node</td>\n",
       "    </tr>\n",
       "    <tr>\n",
       "      <th>5</th>\n",
       "      <td>5544110098</td>\n",
       "      <td>-41.294501</td>\n",
       "      <td>174.774397</td>\n",
       "      <td>Z Vivian St</td>\n",
       "      <td>NaN</td>\n",
       "      <td>Z</td>\n",
       "      <td>node</td>\n",
       "    </tr>\n",
       "    <tr>\n",
       "      <th>6</th>\n",
       "      <td>5821475063</td>\n",
       "      <td>-41.281636</td>\n",
       "      <td>174.778417</td>\n",
       "      <td>Z Harbour City</td>\n",
       "      <td>NaN</td>\n",
       "      <td>Z</td>\n",
       "      <td>node</td>\n",
       "    </tr>\n",
       "    <tr>\n",
       "      <th>7</th>\n",
       "      <td>5821475060</td>\n",
       "      <td>-41.256020</td>\n",
       "      <td>174.765535</td>\n",
       "      <td>Z Crofton Downs</td>\n",
       "      <td>NaN</td>\n",
       "      <td>Z</td>\n",
       "      <td>node</td>\n",
       "    </tr>\n",
       "    <tr>\n",
       "      <th>8</th>\n",
       "      <td>2206248455</td>\n",
       "      <td>-41.236226</td>\n",
       "      <td>174.906171</td>\n",
       "      <td>Z Seaview</td>\n",
       "      <td>NaN</td>\n",
       "      <td>Z</td>\n",
       "      <td>node</td>\n",
       "    </tr>\n",
       "    <tr>\n",
       "      <th>9</th>\n",
       "      <td>331132009</td>\n",
       "      <td>-41.226300</td>\n",
       "      <td>174.806795</td>\n",
       "      <td>Z Johnsonville</td>\n",
       "      <td>NaN</td>\n",
       "      <td>Z</td>\n",
       "      <td>node</td>\n",
       "    </tr>\n",
       "    <tr>\n",
       "      <th>10</th>\n",
       "      <td>5821475057</td>\n",
       "      <td>-41.222778</td>\n",
       "      <td>174.868833</td>\n",
       "      <td>Z Petone</td>\n",
       "      <td>NaN</td>\n",
       "      <td>Z</td>\n",
       "      <td>node</td>\n",
       "    </tr>\n",
       "    <tr>\n",
       "      <th>11</th>\n",
       "      <td>2118620317</td>\n",
       "      <td>-41.214312</td>\n",
       "      <td>174.887163</td>\n",
       "      <td>Z Hutt Road</td>\n",
       "      <td>NaN</td>\n",
       "      <td>Z</td>\n",
       "      <td>node</td>\n",
       "    </tr>\n",
       "    <tr>\n",
       "      <th>12</th>\n",
       "      <td>5821475062</td>\n",
       "      <td>-41.204023</td>\n",
       "      <td>174.914085</td>\n",
       "      <td>Z VIC Corner</td>\n",
       "      <td>NaN</td>\n",
       "      <td>Z</td>\n",
       "      <td>node</td>\n",
       "    </tr>\n",
       "    <tr>\n",
       "      <th>13</th>\n",
       "      <td>319121061</td>\n",
       "      <td>-41.197885</td>\n",
       "      <td>174.937446</td>\n",
       "      <td>Z High Street</td>\n",
       "      <td>Z</td>\n",
       "      <td>NaN</td>\n",
       "      <td>node</td>\n",
       "    </tr>\n",
       "  </tbody>\n",
       "</table>\n",
       "</div>"
      ],
      "text/plain": [
       "            id        lat         lon                name operator brand  type\n",
       "0   5821475056 -41.325128  174.810920          Z Broadway      NaN     Z  node\n",
       "1   3120151445 -41.320054  174.794407         Z Kilbirnie      NaN     Z  node\n",
       "2   5821475059 -41.314924  174.813972           Z Miramar      NaN     Z  node\n",
       "3   5821475061 -41.313163  174.781812  Z Constable Street      NaN     Z  node\n",
       "4   5821475058 -41.297146  174.776556   Z Taranaki Street      NaN     Z  node\n",
       "5   5544110098 -41.294501  174.774397         Z Vivian St      NaN     Z  node\n",
       "6   5821475063 -41.281636  174.778417      Z Harbour City      NaN     Z  node\n",
       "7   5821475060 -41.256020  174.765535     Z Crofton Downs      NaN     Z  node\n",
       "8   2206248455 -41.236226  174.906171           Z Seaview      NaN     Z  node\n",
       "9    331132009 -41.226300  174.806795      Z Johnsonville      NaN     Z  node\n",
       "10  5821475057 -41.222778  174.868833            Z Petone      NaN     Z  node\n",
       "11  2118620317 -41.214312  174.887163         Z Hutt Road      NaN     Z  node\n",
       "12  5821475062 -41.204023  174.914085        Z VIC Corner      NaN     Z  node\n",
       "13   319121061 -41.197885  174.937446       Z High Street        Z   NaN  node"
      ]
     },
     "execution_count": 10,
     "metadata": {},
     "output_type": "execute_result"
    }
   ],
   "source": [
    "z_stations = (sub_df.query('((brand == \"Z\")|(operator == \"Z\")) & (type == \"node\")')\n",
    "              .reset_index()\n",
    "              .drop(columns='index'))\n",
    "z_stations"
   ]
  },
  {
   "cell_type": "markdown",
   "metadata": {},
   "source": [
    "## Get routes between two Z Stations"
   ]
  },
  {
   "cell_type": "markdown",
   "metadata": {},
   "source": [
    "The package OSMNX (a portmanteau acronym of Open Street Maps, OSM, and NetworkX, NX) is a great package for doing network anlysis with street data. A trivial description of the underlying representation used by this package is a reduction of streets and roads to edges. The vertices that connect these edges become the nodes. The position of the nodes and the trajectory of the edges are further described with geolocation coordinates. Once I find out more about the technical aspects, I'll write it down in a separate section. \n",
    "\n",
    "With the OSMNX package, we can superimpose entities with geolocation on the spatial network. Once we've done this, we can find a path connecting any two nodes. Because of the representation constraints, we don't find the route between the 2 specific entity coordinates (unlike Google Maps) - instead, we find the path between two nodes closest to the entities. \n",
    "\n",
    "The route between the nodes, uses the edges (or, streets and roads) of the spatial network. The algorithm is an analogue of the [typical shortest path analyses done in network science](https://en.wikipedia.org/wiki/Shortest_path_problem). In the spatial network, the path length can be equated to distance. \n",
    "\n",
    "The following example looks at the distance and route between two Z stations: Z Kilbernie and Z Vivian St. The red line in the figure is the shortest route that connects the two stations. From the street shapes, you can see that the route is wending it's way around Evans Bay, Basin Reserve before entering the central city street grid. This route has a distance of 4.6 km - a value that corresponds quite closely to that given by [Google Maps](https://bit.ly/2Mvjr0L). "
   ]
  },
  {
   "cell_type": "code",
   "execution_count": 37,
   "metadata": {
    "code_folding": [
     0
    ]
   },
   "outputs": [],
   "source": [
    "# Get street network with a 5km radius around Z Kilbirnie\n",
    "origin_point = tuple(z_stations.query('name == \"Z Kilbirnie\"')[['lat', 'lon']].values[0])\n",
    "destination_point = tuple(z_stations.query('name == \"Z Vivian St\"')[['lat', 'lon']].values[0])\n",
    "G = ox.graph_from_point(origin_point, distance=5000, distance_type='network', network_type='drive')"
   ]
  },
  {
   "cell_type": "code",
   "execution_count": 62,
   "metadata": {
    "code_folding": [
     0
    ]
   },
   "outputs": [
    {
     "data": {
      "image/png": "[encoded data removed]",
      "text/plain": [
       "<Figure size 536.08x432 with 1 Axes>"
      ]
     },
     "metadata": {},
     "output_type": "display_data"
    }
   ],
   "source": [
    "# Plot the route from the closest nodes to Z Kilbirnie and Z Vivian St\n",
    "origin_node = ox.get_nearest_node(G, origin_point)\n",
    "destination_node = ox.get_nearest_node(G, destination_point)\n",
    "\n",
    "nx.shortest_path_length(G, origin_node, destination_node, weight='length')\n",
    "route = nx.shortest_path(G, origin_node, destination_node, weight='length')\n",
    "str(route)\n",
    "fig, ax = ox.plot_graph_route(G, route)"
   ]
  },
  {
   "cell_type": "code",
   "execution_count": 63,
   "metadata": {
    "code_folding": [
     0
    ]
   },
   "outputs": [
    {
     "name": "stdout",
     "output_type": "stream",
     "text": [
      "Shortest distance between Z Kilbirnie and Z Vivian St is 4577.443 m\n"
     ]
    }
   ],
   "source": [
    "# Distance\n",
    "print \"Shortest distance between \\\n",
    "Z Kilbirnie and Z Vivian St is {} m\".format(nx.shortest_path_length(G, \n",
    "                                                                    origin_node, \n",
    "                                                                    destination_node, \n",
    "                                                                    weight='length'))"
   ]
  },
  {
   "cell_type": "markdown",
   "metadata": {},
   "source": [
    " ## Get street network for Wellington"
   ]
  },
  {
   "cell_type": "code",
   "execution_count": 40,
   "metadata": {
    "code_folding": []
   },
   "outputs": [],
   "source": [
    "# Get street network for Wellington. \n",
    "# Can use place name to get the street network. \n",
    "# place = 'Wellington City, New Zealand'\n",
    "# F = ox.graph_from_place(place, network_type='drive_service')\n",
    "\n",
    "# A better option is to use the bounding box that we've already used to get fuel stations.\n",
    "H = ox.graph_from_bbox(north, south, east, west, network_type='drive_service')"
   ]
  },
  {
   "cell_type": "code",
   "execution_count": 42,
   "metadata": {
    "code_folding": []
   },
   "outputs": [
    {
     "data": {
      "image/png": "[encoded data removed]",
      "text/plain": [
       "<Figure size 606.431x432 with 1 Axes>"
      ]
     },
     "metadata": {},
     "output_type": "display_data"
    }
   ],
   "source": [
    "# Plot the route between Z Kilbinie and Z Vivian St on this larger area network\n",
    "nx.shortest_path_length(H, origin_node, destination_node, weight='length')\n",
    "route = nx.shortest_path(H, origin_node, destination_node, weight='length')\n",
    "str(route)\n",
    "fig, ax = ox.plot_graph_route(H, route)"
   ]
  },
  {
   "cell_type": "code",
   "execution_count": 43,
   "metadata": {},
   "outputs": [
    {
     "data": {
      "text/plain": [
       "4386.844999999998"
      ]
     },
     "execution_count": 43,
     "metadata": {},
     "output_type": "execute_result"
    }
   ],
   "source": [
    "nx.shortest_path_length(H, origin_node, destination_node, weight='length')"
   ]
  },
  {
   "cell_type": "markdown",
   "metadata": {},
   "source": [
    "## Get distances between all Z stations"
   ]
  },
  {
   "cell_type": "code",
   "execution_count": 59,
   "metadata": {
    "code_folding": [
     0
    ]
   },
   "outputs": [],
   "source": [
    "# Keep stations with geolocation\n",
    "z_stations_with_geo = z_stations[~z_stations['lat'].isna()]"
   ]
  },
  {
   "cell_type": "code",
   "execution_count": 45,
   "metadata": {
    "code_folding": [
     0
    ]
   },
   "outputs": [],
   "source": [
    "# Pairwise Distance calculation. Time intensive\n",
    "results = []\n",
    "for i in range(len(z_stations_with_geo)):\n",
    "    row_i = z_stations_with_geo.loc[i]\n",
    "    lat_i = row_i['lat']\n",
    "    lon_i = row_i['lon']\n",
    "    id_i = row_i['id']\n",
    "    for j in range(len(z_stations_with_geo)):\n",
    "        row_j = z_stations_with_geo.loc[j]\n",
    "        lat_j = row_j['lat']\n",
    "        lon_j = row_j['lon']\n",
    "        id_j = row_j['id']\n",
    "        origin_node = ox.get_nearest_node(H, (lat_i, lon_j))\n",
    "        destination_node = ox.get_nearest_node(H, (lat_j, lon_j))\n",
    "        distance = nx.shortest_path_length(H, origin_node, destination_node, weight='length')\n",
    "        df = pd.DataFrame({'from': [id_i],'to': [id_j], 'distance': [distance]})\n",
    "        results.append(df)\n",
    "        \n",
    "results_df = pd.concat(results)"
   ]
  },
  {
   "cell_type": "code",
   "execution_count": 58,
   "metadata": {
    "code_folding": [
     0
    ]
   },
   "outputs": [
    {
     "data": {
      "text/html": [
       "<div>\n",
       "<style scoped>\n",
       "    .dataframe tbody tr th:only-of-type {\n",
       "        vertical-align: middle;\n",
       "    }\n",
       "\n",
       "    .dataframe tbody tr th {\n",
       "        vertical-align: top;\n",
       "    }\n",
       "\n",
       "    .dataframe thead th {\n",
       "        text-align: right;\n",
       "    }\n",
       "</style>\n",
       "<table border=\"1\" class=\"dataframe\">\n",
       "  <thead>\n",
       "    <tr style=\"text-align: right;\">\n",
       "      <th></th>\n",
       "      <th>distance</th>\n",
       "      <th>id_from</th>\n",
       "      <th>from</th>\n",
       "      <th>id_to</th>\n",
       "      <th>to</th>\n",
       "    </tr>\n",
       "  </thead>\n",
       "  <tbody>\n",
       "    <tr>\n",
       "      <th>1</th>\n",
       "      <td>847.707</td>\n",
       "      <td>3120151445</td>\n",
       "      <td>Z Kilbirnie</td>\n",
       "      <td>5821475056</td>\n",
       "      <td>Z Broadway</td>\n",
       "    </tr>\n",
       "    <tr>\n",
       "      <th>2</th>\n",
       "      <td>1471.916</td>\n",
       "      <td>5821475059</td>\n",
       "      <td>Z Miramar</td>\n",
       "      <td>5821475056</td>\n",
       "      <td>Z Broadway</td>\n",
       "    </tr>\n",
       "    <tr>\n",
       "      <th>3</th>\n",
       "      <td>2020.262</td>\n",
       "      <td>5821475061</td>\n",
       "      <td>Z Constable Street</td>\n",
       "      <td>5821475056</td>\n",
       "      <td>Z Broadway</td>\n",
       "    </tr>\n",
       "    <tr>\n",
       "      <th>4</th>\n",
       "      <td>4802.317</td>\n",
       "      <td>5821475058</td>\n",
       "      <td>Z Taranaki Street</td>\n",
       "      <td>5821475056</td>\n",
       "      <td>Z Broadway</td>\n",
       "    </tr>\n",
       "    <tr>\n",
       "      <th>5</th>\n",
       "      <td>5178.201</td>\n",
       "      <td>5544110098</td>\n",
       "      <td>Z Vivian St</td>\n",
       "      <td>5821475056</td>\n",
       "      <td>Z Broadway</td>\n",
       "    </tr>\n",
       "  </tbody>\n",
       "</table>\n",
       "</div>"
      ],
      "text/plain": [
       "   distance     id_from                from       id_to          to\n",
       "1   847.707  3120151445         Z Kilbirnie  5821475056  Z Broadway\n",
       "2  1471.916  5821475059           Z Miramar  5821475056  Z Broadway\n",
       "3  2020.262  5821475061  Z Constable Street  5821475056  Z Broadway\n",
       "4  4802.317  5821475058   Z Taranaki Street  5821475056  Z Broadway\n",
       "5  5178.201  5544110098         Z Vivian St  5821475056  Z Broadway"
      ]
     },
     "execution_count": 58,
     "metadata": {},
     "output_type": "execute_result"
    }
   ],
   "source": [
    "# Replace IDs with fuel station names to get final dataframe\n",
    "z_station_names = z_stations_with_geo[['id', 'name']]\n",
    "results_final = (pd.merge(pd.merge(results_df, z_station_names, left_on='from', right_on='id'),\n",
    "                          z_station_names, left_on='to', right_on='id')\n",
    "                 .drop(columns=['from', 'to'])\n",
    "                 .rename(columns={'name_x': 'from', 'name_y': 'to',\n",
    "                                  'id_x': 'id_from', 'id_y': 'id_to'})\n",
    "                 .query('distance > 0.0'))\n",
    "\n",
    "results_final.head(5)"
   ]
  },
  {
   "cell_type": "markdown",
   "metadata": {},
   "source": [
    "## Average distance between two closest Z stations in Wellington"
   ]
  },
  {
   "cell_type": "code",
   "execution_count": 57,
   "metadata": {
    "code_folding": [
     0
    ]
   },
   "outputs": [
    {
     "data": {
      "text/plain": [
       "from\n",
       "Z Constable Street     230.729\n",
       "Z Vivian St            376.298\n",
       "Z Taranaki Street      388.053\n",
       "Z Petone               431.644\n",
       "Z Johnsonville         462.907\n",
       "Z Miramar              551.058\n",
       "Z Kilbirnie            653.294\n",
       "Z Broadway             748.432\n",
       "Z Seaview              822.433\n",
       "Z VIC Corner          1364.992\n",
       "Z Hutt Road           1535.812\n",
       "Z Harbour City        1681.073\n",
       "Z Crofton Downs       2505.198\n",
       "Z High Street         2840.487\n",
       "Name: distance, dtype: float64"
      ]
     },
     "execution_count": 57,
     "metadata": {},
     "output_type": "execute_result"
    }
   ],
   "source": [
    "# Ordered list of distance to the closest Z station\n",
    "closest_z_stations = results_final.groupby('from')['distance'].agg('min')\n",
    "closest_z_stations.sort_values()"
   ]
  },
  {
   "cell_type": "code",
   "execution_count": 55,
   "metadata": {
    "code_folding": [
     0
    ]
   },
   "outputs": [
    {
     "data": {
      "image/png": "[encoded data removed]",
      "text/plain": [
       "<Figure size 432x288 with 1 Axes>"
      ]
     },
     "metadata": {},
     "output_type": "display_data"
    }
   ],
   "source": [
    "# Plot the distances\n",
    "import matplotlib.pyplot as plt\n",
    "plt.hist(closest_z_stations);\n",
    "plt.title('Distance between stations \\n. Mean = {} m. Median  = {} m'.format(closest_z_stations.mean(), \n",
    "                                                                             closest_z_stations.median()));"
   ]
  },
  {
   "cell_type": "code",
   "execution_count": null,
   "metadata": {},
   "outputs": [],
   "source": []
  }
 ],
 "metadata": {
  "kernelspec": {
   "display_name": "Python 2",
   "language": "python",
   "name": "python2"
  },
  "language_info": {
   "codemirror_mode": {
    "name": "ipython",
    "version": 2
   },
   "file_extension": ".py",
   "mimetype": "text/x-python",
   "name": "python",
   "nbconvert_exporter": "python",
   "pygments_lexer": "ipython2",
   "version": "2.7.15"
  },
  "toc": {
   "base_numbering": 1,
   "nav_menu": {
    "height": "511px",
    "width": "298px"
   },
   "number_sections": true,
   "sideBar": true,
   "skip_h1_title": false,
   "title_cell": "Table of Contents",
   "title_sidebar": "Contents",
   "toc_cell": false,
   "toc_position": {},
   "toc_section_display": true,
   "toc_window_display": true
  }
 },
 "nbformat": 4,
 "nbformat_minor": 2
}
